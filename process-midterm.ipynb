{
 "cells": [
  {
   "cell_type": "markdown",
   "metadata": {
    "colab_type": "text",
    "id": "zgOA5tSzYW5-"
   },
   "source": [
    "# Movie Industry\n",
    "\n",
    "*Project Introduction.*"
   ]
  },
  {
   "cell_type": "markdown",
   "metadata": {
    "colab_type": "text",
    "id": "kkeE1g7ZOM0d"
   },
   "source": [
    "**Data Visualization Professors:** Qiwei Han, Íñigo Rituerto de Troya\n",
    "\n",
    "**Project by:** *Group 7*<br>\n",
    "40755 | Alessandro Gambetti  <br>\n",
    "29712 | Édi Ferreira  <br>\n",
    "26068 | Mónica Pereira <br>\n",
    "23813 | Tomás Portas <br>\n"
   ]
  },
  {
   "cell_type": "markdown",
   "metadata": {
    "colab_type": "text",
    "id": "Ita5b0PmYh98"
   },
   "source": [
    "**Intro**<br>\n",
    "The report will consist on the study of rating datasets collected by GroupLens Research from the MovieLens web site.<br>\n",
    "It is mostly focused on the financial prespective over the data and, therefore, the analysis performed was based on the point of view of an investor in the Entertainment Industry (e.g. Instead of trying to understand which movies have better rating, it was tested if the rating has any correlation with the profitability of the movie).  <br>\n",
    "<br>\n",
    "**Contents** <br>\n",
    "0. Data Import<br>\n",
    "1. Data Curation<br>\n",
    "2. Budget, Revenue and Profitability Index<br>\n",
    "3. Movie Characteristics<br>\n",
    "4. Companies<br>\n",
    "5. Actors<br>\n",
    "6. Conclusions<br>\n",
    "7. Sources<br>\n",
    "<br>\n",
    "\n",
    "- **For the Midterm**, the group presents the chapters 1, 4 and 5 as a brief visualization of the dataset and some first insights."
   ]
  },
  {
   "cell_type": "markdown",
   "metadata": {
    "colab_type": "text",
    "id": "ebveqwx5ZLVj"
   },
   "source": [
    "# 0. Data Import\n",
    "\n",
    "\n",
    "*Data imports and first insights regarding useful information for each dataset.*\n",
    "\n",
    "\n",
    "\n"
   ]
  },
  {
   "cell_type": "raw",
   "metadata": {
    "colab": {
     "base_uri": "https://localhost:8080/",
     "height": 122
    },
    "colab_type": "code",
    "executionInfo": {
     "elapsed": 114761,
     "status": "ok",
     "timestamp": 1574419553411,
     "user": {
      "displayName": "Mónica Moreira Guerreiro Pereira",
      "photoUrl": "https://lh3.googleusercontent.com/a-/AAuE7mBJlzgTAn7Cw0qVXlyyl1mmvjiKiUyN4Ka7_fzLUg=s64",
      "userId": "17931693132098221456"
     },
     "user_tz": 0
    },
    "id": "JrX6P6j9_pzH",
    "outputId": "31514592-c183-4bf3-e3bc-c380f907b4c2"
   },
   "source": [
    "# Mount the google drive:\n",
    "\n",
    "from google.colab import drive\n",
    "drive.mount('/content/drive')"
   ]
  },
  {
   "cell_type": "code",
   "execution_count": 1,
   "metadata": {
    "colab": {},
    "colab_type": "code",
    "id": "Ier0Rp_Db7m1"
   },
   "outputs": [],
   "source": [
    "# Import libraries:\n",
    "\n",
    "import pandas as pd\n",
    "import numpy as np\n",
    "import seaborn as sns \n",
    "import matplotlib.pyplot as plt\n",
    "import warnings\n",
    "warnings.filterwarnings('ignore')\n",
    "\n",
    "%matplotlib inline"
   ]
  },
  {
   "cell_type": "code",
   "execution_count": 2,
   "metadata": {
    "colab": {},
    "colab_type": "code",
    "id": "G4ffHFcY_pzU"
   },
   "outputs": [],
   "source": [
    "# Import datasets:\n",
    "\n",
    "genome_scores = pd.read_csv('Data/genome-scores.csv')# useless, related with tags\n",
    "genome_tags = pd.read_csv('Data/genome-tags.csv')# useless, related with tags\n",
    "links = pd.read_csv('Data/links.csv')# USEFUL, but drop 'imdbID'\n",
    "movies = pd.read_csv('Data/movies.csv')# USEFUL, starting point\n",
    "ratings = pd.read_csv('Data/ratings.csv')# useless, since it is about ratings given by individual userID's\n",
    "tags = pd.read_csv('Data/tags.csv')# useless, related with tags\n",
    "tmdb_credits = pd.read_csv('Data/tmdb_5000_credits.csv')# USEFUL, but drop 'crew'+'title' since the merge will be by movieID\n",
    "tmdb_movies = pd.read_csv('Data/tmdb_5000_movies.csv')# USEFUL, drop a lot of categories (many already present in others)"
   ]
  },
  {
   "cell_type": "markdown",
   "metadata": {
    "colab_type": "text",
    "id": "SyxWpwNXH0KJ"
   },
   "source": [
    "# 1. Data Curation\n",
    "*Exploration of the available datasets, by dropping columns and merging information, in order to create a new Master Dataframe with all the information necessary to draw conclusions.*"
   ]
  },
  {
   "cell_type": "code",
   "execution_count": 3,
   "metadata": {
    "colab": {},
    "colab_type": "code",
    "id": "O16VgsrQf4B4"
   },
   "outputs": [],
   "source": [
    "# Drop useless columns:\n",
    "\n",
    "links.drop(columns='imdbId', inplace=True)\n",
    "tmdb_credits.drop(columns=['title','crew'], inplace=True)\n",
    "tmdb_movies.drop(columns=['genres','homepage','keywords','original_title','overview','spoken_languages','status','tagline','title'], inplace=True)"
   ]
  },
  {
   "cell_type": "code",
   "execution_count": 4,
   "metadata": {
    "colab": {},
    "colab_type": "code",
    "id": "jiOw4lPWhGDT"
   },
   "outputs": [],
   "source": [
    "# Merge useful datasets and respective columns:\n",
    "\n",
    "master_df = pd.merge(movies, links, on='movieId')\n",
    "master_df = pd.merge(master_df, tmdb_credits, left_on='tmdbId', right_on='movie_id')\n",
    "master_df = pd.merge(master_df, tmdb_movies, left_on='tmdbId', right_on='id')\n",
    "master_df.drop(columns=['movie_id','id'], inplace=True)"
   ]
  },
  {
   "cell_type": "code",
   "execution_count": 5,
   "metadata": {
    "colab": {},
    "colab_type": "code",
    "id": "j2Z1IQCVyUR4"
   },
   "outputs": [],
   "source": [
    "# Treat values below $5000 as NaN since, after comparing the data with the website from where it was retrieved, the group found that threshold reasonable to avoid wrong data entries\n",
    "\n",
    "master_df['revenue'] = master_df['revenue'].apply(lambda x: np.nan if x < 5000 else x)\n",
    "master_df['budget'] = master_df['budget'].apply(lambda x: np.nan if x < 5000 else x)"
   ]
  },
  {
   "cell_type": "code",
   "execution_count": 6,
   "metadata": {
    "colab": {},
    "colab_type": "code",
    "id": "TeAjCMzayO7b"
   },
   "outputs": [],
   "source": [
    "# Divide all the revenues and budgets to have numbers in millions -> easier to read \n",
    "one_mln = 1000000\n",
    "master_df['revenue'] = master_df['revenue'] / one_mln\n",
    "master_df['budget'] = master_df['budget'] / one_mln"
   ]
  },
  {
   "cell_type": "code",
   "execution_count": 7,
   "metadata": {
    "colab": {},
    "colab_type": "code",
    "id": "v2K5MT8xhReQ"
   },
   "outputs": [],
   "source": [
    "# Add a profitability index column (assumming, as a comparison parameter, revenues/budget)\n",
    "\n",
    "master_df['profitability_index'] = master_df['revenue'] / master_df['budget']"
   ]
  },
  {
   "cell_type": "code",
   "execution_count": 8,
   "metadata": {
    "colab": {},
    "colab_type": "code",
    "id": "DW5WaXfYhSN-"
   },
   "outputs": [],
   "source": [
    "# Re-order columns for a better overview:\n",
    "\n",
    "master_df = master_df[['movieId', 'tmdbId', 'title', 'genres', 'original_language', 'release_date', 'runtime', \n",
    "                      'cast', 'production_companies', 'production_countries', 'popularity', 'vote_average', \n",
    "                      'vote_count', 'revenue', 'budget', 'profitability_index']]"
   ]
  },
  {
   "cell_type": "code",
   "execution_count": 9,
   "metadata": {
    "colab": {
     "base_uri": "https://localhost:8080/",
     "height": 297
    },
    "colab_type": "code",
    "executionInfo": {
     "elapsed": 138929,
     "status": "ok",
     "timestamp": 1574419577615,
     "user": {
      "displayName": "Mónica Moreira Guerreiro Pereira",
      "photoUrl": "https://lh3.googleusercontent.com/a-/AAuE7mBJlzgTAn7Cw0qVXlyyl1mmvjiKiUyN4Ka7_fzLUg=s64",
      "userId": "17931693132098221456"
     },
     "user_tz": 0
    },
    "id": "QawfUeTyUbYQ",
    "outputId": "d0c0e8f3-0101-4c77-9756-dc4be5e89a4e"
   },
   "outputs": [
    {
     "data": {
      "text/html": [
       "<div>\n",
       "<style scoped>\n",
       "    .dataframe tbody tr th:only-of-type {\n",
       "        vertical-align: middle;\n",
       "    }\n",
       "\n",
       "    .dataframe tbody tr th {\n",
       "        vertical-align: top;\n",
       "    }\n",
       "\n",
       "    .dataframe thead th {\n",
       "        text-align: right;\n",
       "    }\n",
       "</style>\n",
       "<table border=\"1\" class=\"dataframe\">\n",
       "  <thead>\n",
       "    <tr style=\"text-align: right;\">\n",
       "      <th></th>\n",
       "      <th>movieId</th>\n",
       "      <th>tmdbId</th>\n",
       "      <th>runtime</th>\n",
       "      <th>popularity</th>\n",
       "      <th>vote_average</th>\n",
       "      <th>vote_count</th>\n",
       "      <th>revenue</th>\n",
       "      <th>budget</th>\n",
       "      <th>profitability_index</th>\n",
       "    </tr>\n",
       "  </thead>\n",
       "  <tbody>\n",
       "    <tr>\n",
       "      <th>count</th>\n",
       "      <td>4227.000000</td>\n",
       "      <td>4227.000000</td>\n",
       "      <td>4227.000000</td>\n",
       "      <td>4227.000000</td>\n",
       "      <td>4227.000000</td>\n",
       "      <td>4227.000000</td>\n",
       "      <td>3145.000000</td>\n",
       "      <td>3427.000000</td>\n",
       "      <td>3014.000000</td>\n",
       "    </tr>\n",
       "    <tr>\n",
       "      <th>mean</th>\n",
       "      <td>40449.069080</td>\n",
       "      <td>34743.342560</td>\n",
       "      <td>108.164892</td>\n",
       "      <td>21.823960</td>\n",
       "      <td>6.227490</td>\n",
       "      <td>713.394133</td>\n",
       "      <td>114.616693</td>\n",
       "      <td>37.472368</td>\n",
       "      <td>11.407971</td>\n",
       "    </tr>\n",
       "    <tr>\n",
       "      <th>std</th>\n",
       "      <td>40169.811811</td>\n",
       "      <td>53696.436846</td>\n",
       "      <td>20.763116</td>\n",
       "      <td>26.930074</td>\n",
       "      <td>0.938099</td>\n",
       "      <td>1224.924780</td>\n",
       "      <td>176.235395</td>\n",
       "      <td>41.726163</td>\n",
       "      <td>247.621328</td>\n",
       "    </tr>\n",
       "    <tr>\n",
       "      <th>min</th>\n",
       "      <td>1.000000</td>\n",
       "      <td>5.000000</td>\n",
       "      <td>0.000000</td>\n",
       "      <td>0.001117</td>\n",
       "      <td>0.000000</td>\n",
       "      <td>0.000000</td>\n",
       "      <td>0.006399</td>\n",
       "      <td>0.007000</td>\n",
       "      <td>0.000256</td>\n",
       "    </tr>\n",
       "    <tr>\n",
       "      <th>25%</th>\n",
       "      <td>3735.000000</td>\n",
       "      <td>8066.500000</td>\n",
       "      <td>94.000000</td>\n",
       "      <td>6.056306</td>\n",
       "      <td>5.700000</td>\n",
       "      <td>75.000000</td>\n",
       "      <td>16.519460</td>\n",
       "      <td>9.800000</td>\n",
       "      <td>1.030640</td>\n",
       "    </tr>\n",
       "    <tr>\n",
       "      <th>50%</th>\n",
       "      <td>30898.000000</td>\n",
       "      <td>12207.000000</td>\n",
       "      <td>104.000000</td>\n",
       "      <td>14.282314</td>\n",
       "      <td>6.300000</td>\n",
       "      <td>271.000000</td>\n",
       "      <td>51.842679</td>\n",
       "      <td>25.000000</td>\n",
       "      <td>2.301077</td>\n",
       "    </tr>\n",
       "    <tr>\n",
       "      <th>75%</th>\n",
       "      <td>75967.500000</td>\n",
       "      <td>38751.000000</td>\n",
       "      <td>118.000000</td>\n",
       "      <td>28.853540</td>\n",
       "      <td>6.900000</td>\n",
       "      <td>773.500000</td>\n",
       "      <td>137.587063</td>\n",
       "      <td>50.000000</td>\n",
       "      <td>4.417786</td>\n",
       "    </tr>\n",
       "    <tr>\n",
       "      <th>max</th>\n",
       "      <td>131013.000000</td>\n",
       "      <td>318040.000000</td>\n",
       "      <td>338.000000</td>\n",
       "      <td>724.247784</td>\n",
       "      <td>10.000000</td>\n",
       "      <td>13752.000000</td>\n",
       "      <td>2787.965087</td>\n",
       "      <td>380.000000</td>\n",
       "      <td>12890.386667</td>\n",
       "    </tr>\n",
       "  </tbody>\n",
       "</table>\n",
       "</div>"
      ],
      "text/plain": [
       "             movieId         tmdbId      runtime   popularity  vote_average  \\\n",
       "count    4227.000000    4227.000000  4227.000000  4227.000000   4227.000000   \n",
       "mean    40449.069080   34743.342560   108.164892    21.823960      6.227490   \n",
       "std     40169.811811   53696.436846    20.763116    26.930074      0.938099   \n",
       "min         1.000000       5.000000     0.000000     0.001117      0.000000   \n",
       "25%      3735.000000    8066.500000    94.000000     6.056306      5.700000   \n",
       "50%     30898.000000   12207.000000   104.000000    14.282314      6.300000   \n",
       "75%     75967.500000   38751.000000   118.000000    28.853540      6.900000   \n",
       "max    131013.000000  318040.000000   338.000000   724.247784     10.000000   \n",
       "\n",
       "         vote_count      revenue       budget  profitability_index  \n",
       "count   4227.000000  3145.000000  3427.000000          3014.000000  \n",
       "mean     713.394133   114.616693    37.472368            11.407971  \n",
       "std     1224.924780   176.235395    41.726163           247.621328  \n",
       "min        0.000000     0.006399     0.007000             0.000256  \n",
       "25%       75.000000    16.519460     9.800000             1.030640  \n",
       "50%      271.000000    51.842679    25.000000             2.301077  \n",
       "75%      773.500000   137.587063    50.000000             4.417786  \n",
       "max    13752.000000  2787.965087   380.000000         12890.386667  "
      ]
     },
     "execution_count": 9,
     "metadata": {},
     "output_type": "execute_result"
    }
   ],
   "source": [
    "master_df.describe()"
   ]
  },
  {
   "cell_type": "code",
   "execution_count": 10,
   "metadata": {
    "colab": {
     "base_uri": "https://localhost:8080/",
     "height": 366
    },
    "colab_type": "code",
    "executionInfo": {
     "elapsed": 138915,
     "status": "ok",
     "timestamp": 1574419577615,
     "user": {
      "displayName": "Mónica Moreira Guerreiro Pereira",
      "photoUrl": "https://lh3.googleusercontent.com/a-/AAuE7mBJlzgTAn7Cw0qVXlyyl1mmvjiKiUyN4Ka7_fzLUg=s64",
      "userId": "17931693132098221456"
     },
     "user_tz": 0
    },
    "id": "2EIRgs_dhU8o",
    "outputId": "87c28881-050f-47a4-e1ce-02e76d2daf69"
   },
   "outputs": [
    {
     "data": {
      "text/html": [
       "<div>\n",
       "<style scoped>\n",
       "    .dataframe tbody tr th:only-of-type {\n",
       "        vertical-align: middle;\n",
       "    }\n",
       "\n",
       "    .dataframe tbody tr th {\n",
       "        vertical-align: top;\n",
       "    }\n",
       "\n",
       "    .dataframe thead th {\n",
       "        text-align: right;\n",
       "    }\n",
       "</style>\n",
       "<table border=\"1\" class=\"dataframe\">\n",
       "  <thead>\n",
       "    <tr style=\"text-align: right;\">\n",
       "      <th></th>\n",
       "      <th>movieId</th>\n",
       "      <th>tmdbId</th>\n",
       "      <th>title</th>\n",
       "      <th>genres</th>\n",
       "      <th>original_language</th>\n",
       "      <th>release_date</th>\n",
       "      <th>runtime</th>\n",
       "      <th>cast</th>\n",
       "      <th>production_companies</th>\n",
       "      <th>production_countries</th>\n",
       "      <th>popularity</th>\n",
       "      <th>vote_average</th>\n",
       "      <th>vote_count</th>\n",
       "      <th>revenue</th>\n",
       "      <th>budget</th>\n",
       "      <th>profitability_index</th>\n",
       "    </tr>\n",
       "  </thead>\n",
       "  <tbody>\n",
       "    <tr>\n",
       "      <th>0</th>\n",
       "      <td>1</td>\n",
       "      <td>862.0</td>\n",
       "      <td>Toy Story (1995)</td>\n",
       "      <td>Adventure|Animation|Children|Comedy|Fantasy</td>\n",
       "      <td>en</td>\n",
       "      <td>1995-10-30</td>\n",
       "      <td>81.0</td>\n",
       "      <td>[{\"cast_id\": 14, \"character\": \"Woody (voice)\",...</td>\n",
       "      <td>[{\"name\": \"Pixar Animation Studios\", \"id\": 3}]</td>\n",
       "      <td>[{\"iso_3166_1\": \"US\", \"name\": \"United States o...</td>\n",
       "      <td>73.640445</td>\n",
       "      <td>7.7</td>\n",
       "      <td>5269</td>\n",
       "      <td>373.554033</td>\n",
       "      <td>30.0</td>\n",
       "      <td>12.451801</td>\n",
       "    </tr>\n",
       "    <tr>\n",
       "      <th>1</th>\n",
       "      <td>10</td>\n",
       "      <td>710.0</td>\n",
       "      <td>GoldenEye (1995)</td>\n",
       "      <td>Action|Adventure|Thriller</td>\n",
       "      <td>en</td>\n",
       "      <td>1995-11-16</td>\n",
       "      <td>130.0</td>\n",
       "      <td>[{\"cast_id\": 1, \"character\": \"James Bond\", \"cr...</td>\n",
       "      <td>[{\"name\": \"United Artists\", \"id\": 60}, {\"name\"...</td>\n",
       "      <td>[{\"iso_3166_1\": \"GB\", \"name\": \"United Kingdom\"...</td>\n",
       "      <td>59.824565</td>\n",
       "      <td>6.6</td>\n",
       "      <td>1174</td>\n",
       "      <td>352.194034</td>\n",
       "      <td>58.0</td>\n",
       "      <td>6.072311</td>\n",
       "    </tr>\n",
       "    <tr>\n",
       "      <th>2</th>\n",
       "      <td>11</td>\n",
       "      <td>9087.0</td>\n",
       "      <td>American President, The (1995)</td>\n",
       "      <td>Comedy|Drama|Romance</td>\n",
       "      <td>en</td>\n",
       "      <td>1995-11-17</td>\n",
       "      <td>106.0</td>\n",
       "      <td>[{\"cast_id\": 1, \"character\": \"Andrew Shepherd\"...</td>\n",
       "      <td>[{\"name\": \"Columbia Pictures\", \"id\": 5}, {\"nam...</td>\n",
       "      <td>[{\"iso_3166_1\": \"US\", \"name\": \"United States o...</td>\n",
       "      <td>11.056763</td>\n",
       "      <td>6.5</td>\n",
       "      <td>195</td>\n",
       "      <td>107.879496</td>\n",
       "      <td>62.0</td>\n",
       "      <td>1.739992</td>\n",
       "    </tr>\n",
       "  </tbody>\n",
       "</table>\n",
       "</div>"
      ],
      "text/plain": [
       "   movieId  tmdbId                           title  \\\n",
       "0        1   862.0                Toy Story (1995)   \n",
       "1       10   710.0                GoldenEye (1995)   \n",
       "2       11  9087.0  American President, The (1995)   \n",
       "\n",
       "                                        genres original_language release_date  \\\n",
       "0  Adventure|Animation|Children|Comedy|Fantasy                en   1995-10-30   \n",
       "1                    Action|Adventure|Thriller                en   1995-11-16   \n",
       "2                         Comedy|Drama|Romance                en   1995-11-17   \n",
       "\n",
       "   runtime                                               cast  \\\n",
       "0     81.0  [{\"cast_id\": 14, \"character\": \"Woody (voice)\",...   \n",
       "1    130.0  [{\"cast_id\": 1, \"character\": \"James Bond\", \"cr...   \n",
       "2    106.0  [{\"cast_id\": 1, \"character\": \"Andrew Shepherd\"...   \n",
       "\n",
       "                                production_companies  \\\n",
       "0     [{\"name\": \"Pixar Animation Studios\", \"id\": 3}]   \n",
       "1  [{\"name\": \"United Artists\", \"id\": 60}, {\"name\"...   \n",
       "2  [{\"name\": \"Columbia Pictures\", \"id\": 5}, {\"nam...   \n",
       "\n",
       "                                production_countries  popularity  \\\n",
       "0  [{\"iso_3166_1\": \"US\", \"name\": \"United States o...   73.640445   \n",
       "1  [{\"iso_3166_1\": \"GB\", \"name\": \"United Kingdom\"...   59.824565   \n",
       "2  [{\"iso_3166_1\": \"US\", \"name\": \"United States o...   11.056763   \n",
       "\n",
       "   vote_average  vote_count     revenue  budget  profitability_index  \n",
       "0           7.7        5269  373.554033    30.0            12.451801  \n",
       "1           6.6        1174  352.194034    58.0             6.072311  \n",
       "2           6.5         195  107.879496    62.0             1.739992  "
      ]
     },
     "execution_count": 10,
     "metadata": {},
     "output_type": "execute_result"
    }
   ],
   "source": [
    "# Overview of the Master DataFrame:\n",
    "\n",
    "master_df.head(3)"
   ]
  },
  {
   "cell_type": "markdown",
   "metadata": {
    "colab_type": "text",
    "id": "G8zrUZPAQl-X"
   },
   "source": [
    "# 2. Budget, Revenue and Profitability Index by Genre\n",
    "*Analysis of the correlations between revenues and budget for each movie genre, such as the corresponding profitability index.*"
   ]
  },
  {
   "cell_type": "code",
   "execution_count": null,
   "metadata": {
    "colab": {},
    "colab_type": "code",
    "id": "1XV8TcMu_oG-"
   },
   "outputs": [],
   "source": []
  },
  {
   "cell_type": "markdown",
   "metadata": {
    "colab_type": "text",
    "id": "9Woq_d0Fo8vL"
   },
   "source": [
    "# 3. Movie Caracteristics\n",
    "*General Analysis on the best-movies caracteristics regarding launch date (by years and seasons), taking into account the inflation over time.*"
   ]
  },
  {
   "cell_type": "code",
   "execution_count": null,
   "metadata": {
    "colab": {},
    "colab_type": "code",
    "id": "dsIC9nVh_pHF"
   },
   "outputs": [],
   "source": []
  },
  {
   "cell_type": "markdown",
   "metadata": {
    "colab_type": "text",
    "id": "Csb3LGVFRBa4"
   },
   "source": [
    "# 4. Companies\n",
    "*Identification of the best film-producers out there, regarding profitability and votes.*\n"
   ]
  },
  {
   "cell_type": "code",
   "execution_count": 11,
   "metadata": {
    "colab": {
     "base_uri": "https://localhost:8080/",
     "height": 284
    },
    "colab_type": "code",
    "executionInfo": {
     "elapsed": 2516,
     "status": "ok",
     "timestamp": 1574424534332,
     "user": {
      "displayName": "Mónica Moreira Guerreiro Pereira",
      "photoUrl": "https://lh3.googleusercontent.com/a-/AAuE7mBJlzgTAn7Cw0qVXlyyl1mmvjiKiUyN4Ka7_fzLUg=s64",
      "userId": "17931693132098221456"
     },
     "user_tz": 0
    },
    "id": "-6dN-2RDcPri",
    "outputId": "7480d669-2a6a-4765-8b03-3721a12f12c2"
   },
   "outputs": [
    {
     "data": {
      "text/html": [
       "<div>\n",
       "<style scoped>\n",
       "    .dataframe tbody tr th:only-of-type {\n",
       "        vertical-align: middle;\n",
       "    }\n",
       "\n",
       "    .dataframe tbody tr th {\n",
       "        vertical-align: top;\n",
       "    }\n",
       "\n",
       "    .dataframe thead th {\n",
       "        text-align: right;\n",
       "    }\n",
       "</style>\n",
       "<table border=\"1\" class=\"dataframe\">\n",
       "  <thead>\n",
       "    <tr style=\"text-align: right;\">\n",
       "      <th></th>\n",
       "      <th>movieId</th>\n",
       "      <th>tmdbId</th>\n",
       "      <th>title</th>\n",
       "      <th>genres</th>\n",
       "      <th>original_language</th>\n",
       "      <th>release_date</th>\n",
       "      <th>runtime</th>\n",
       "      <th>cast</th>\n",
       "      <th>production_companies</th>\n",
       "      <th>production_countries</th>\n",
       "      <th>popularity</th>\n",
       "      <th>vote_average</th>\n",
       "      <th>vote_count</th>\n",
       "      <th>revenue</th>\n",
       "      <th>budget</th>\n",
       "      <th>profitability_index</th>\n",
       "      <th>producer_as_list</th>\n",
       "      <th>producer_as_string</th>\n",
       "    </tr>\n",
       "  </thead>\n",
       "  <tbody>\n",
       "    <tr>\n",
       "      <th>0</th>\n",
       "      <td>1</td>\n",
       "      <td>862.0</td>\n",
       "      <td>Toy Story (1995)</td>\n",
       "      <td>Adventure|Animation|Children|Comedy|Fantasy</td>\n",
       "      <td>en</td>\n",
       "      <td>1995-10-30</td>\n",
       "      <td>81.0</td>\n",
       "      <td>[{\"cast_id\": 14, \"character\": \"Woody (voice)\",...</td>\n",
       "      <td>[{\"name\": \"Pixar Animation Studios\", \"id\": 3}]</td>\n",
       "      <td>[{\"iso_3166_1\": \"US\", \"name\": \"United States o...</td>\n",
       "      <td>73.640445</td>\n",
       "      <td>7.7</td>\n",
       "      <td>5269</td>\n",
       "      <td>373.554033</td>\n",
       "      <td>30.0</td>\n",
       "      <td>12.451801</td>\n",
       "      <td>[Pixar Animation Studios]</td>\n",
       "      <td>Pixar Animation Studios</td>\n",
       "    </tr>\n",
       "    <tr>\n",
       "      <th>1</th>\n",
       "      <td>10</td>\n",
       "      <td>710.0</td>\n",
       "      <td>GoldenEye (1995)</td>\n",
       "      <td>Action|Adventure|Thriller</td>\n",
       "      <td>en</td>\n",
       "      <td>1995-11-16</td>\n",
       "      <td>130.0</td>\n",
       "      <td>[{\"cast_id\": 1, \"character\": \"James Bond\", \"cr...</td>\n",
       "      <td>[{\"name\": \"United Artists\", \"id\": 60}, {\"name\"...</td>\n",
       "      <td>[{\"iso_3166_1\": \"GB\", \"name\": \"United Kingdom\"...</td>\n",
       "      <td>59.824565</td>\n",
       "      <td>6.6</td>\n",
       "      <td>1174</td>\n",
       "      <td>352.194034</td>\n",
       "      <td>58.0</td>\n",
       "      <td>6.072311</td>\n",
       "      <td>[United Artists, Eon Productions]</td>\n",
       "      <td>United Artists, Eon Productions</td>\n",
       "    </tr>\n",
       "  </tbody>\n",
       "</table>\n",
       "</div>"
      ],
      "text/plain": [
       "   movieId  tmdbId             title  \\\n",
       "0        1   862.0  Toy Story (1995)   \n",
       "1       10   710.0  GoldenEye (1995)   \n",
       "\n",
       "                                        genres original_language release_date  \\\n",
       "0  Adventure|Animation|Children|Comedy|Fantasy                en   1995-10-30   \n",
       "1                    Action|Adventure|Thriller                en   1995-11-16   \n",
       "\n",
       "   runtime                                               cast  \\\n",
       "0     81.0  [{\"cast_id\": 14, \"character\": \"Woody (voice)\",...   \n",
       "1    130.0  [{\"cast_id\": 1, \"character\": \"James Bond\", \"cr...   \n",
       "\n",
       "                                production_companies  \\\n",
       "0     [{\"name\": \"Pixar Animation Studios\", \"id\": 3}]   \n",
       "1  [{\"name\": \"United Artists\", \"id\": 60}, {\"name\"...   \n",
       "\n",
       "                                production_countries  popularity  \\\n",
       "0  [{\"iso_3166_1\": \"US\", \"name\": \"United States o...   73.640445   \n",
       "1  [{\"iso_3166_1\": \"GB\", \"name\": \"United Kingdom\"...   59.824565   \n",
       "\n",
       "   vote_average  vote_count     revenue  budget  profitability_index  \\\n",
       "0           7.7        5269  373.554033    30.0            12.451801   \n",
       "1           6.6        1174  352.194034    58.0             6.072311   \n",
       "\n",
       "                    producer_as_list               producer_as_string  \n",
       "0          [Pixar Animation Studios]          Pixar Animation Studios  \n",
       "1  [United Artists, Eon Productions]  United Artists, Eon Productions  "
      ]
     },
     "execution_count": 11,
     "metadata": {},
     "output_type": "execute_result"
    }
   ],
   "source": [
    "# From 'production_companies', select the producer of each movie and form a new column :\n",
    "\n",
    "for_profit = master_df.reset_index(drop=True)\n",
    "\n",
    "for_profit['producer_as_list'] = np.nan\n",
    "for_profit['producer_as_string']= np.nan\n",
    "\n",
    "for i in range(master_df.shape[0]):\n",
    "    l = eval((for_profit['production_companies'][i]))\n",
    "    lista = [d['name'] for d in l]\n",
    "    for_profit['producer_as_list'][i] = lista\n",
    "    for_profit['producer_as_string'][i] = ', '.join(lista)\n",
    "                                    \n",
    "for_profit.head(2)"
   ]
  },
  {
   "cell_type": "code",
   "execution_count": 12,
   "metadata": {
    "colab": {
     "base_uri": "https://localhost:8080/",
     "height": 669
    },
    "colab_type": "code",
    "executionInfo": {
     "elapsed": 972,
     "status": "ok",
     "timestamp": 1574424596470,
     "user": {
      "displayName": "Mónica Moreira Guerreiro Pereira",
      "photoUrl": "https://lh3.googleusercontent.com/a-/AAuE7mBJlzgTAn7Cw0qVXlyyl1mmvjiKiUyN4Ka7_fzLUg=s64",
      "userId": "17931693132098221456"
     },
     "user_tz": 0
    },
    "id": "k50z7w_rAJt6",
    "outputId": "0171e406-1eb6-44cc-a8d5-ca4092f5c501"
   },
   "outputs": [
    {
     "data": {
      "text/html": [
       "<div>\n",
       "<style scoped>\n",
       "    .dataframe tbody tr th:only-of-type {\n",
       "        vertical-align: middle;\n",
       "    }\n",
       "\n",
       "    .dataframe tbody tr th {\n",
       "        vertical-align: top;\n",
       "    }\n",
       "\n",
       "    .dataframe thead th {\n",
       "        text-align: right;\n",
       "    }\n",
       "</style>\n",
       "<table border=\"1\" class=\"dataframe\">\n",
       "  <thead>\n",
       "    <tr style=\"text-align: right;\">\n",
       "      <th></th>\n",
       "      <th>producer</th>\n",
       "      <th>count</th>\n",
       "    </tr>\n",
       "  </thead>\n",
       "  <tbody>\n",
       "    <tr>\n",
       "      <th>0</th>\n",
       "      <td>Warner Bros.</td>\n",
       "      <td>307</td>\n",
       "    </tr>\n",
       "    <tr>\n",
       "      <th>1</th>\n",
       "      <td>Universal Pictures</td>\n",
       "      <td>290</td>\n",
       "    </tr>\n",
       "    <tr>\n",
       "      <th>2</th>\n",
       "      <td>Paramount Pictures</td>\n",
       "      <td>277</td>\n",
       "    </tr>\n",
       "    <tr>\n",
       "      <th>3</th>\n",
       "      <td>Twentieth Century Fox Film Corporation</td>\n",
       "      <td>214</td>\n",
       "    </tr>\n",
       "    <tr>\n",
       "      <th>4</th>\n",
       "      <td>Columbia Pictures</td>\n",
       "      <td>189</td>\n",
       "    </tr>\n",
       "    <tr>\n",
       "      <th>5</th>\n",
       "      <td>New Line Cinema</td>\n",
       "      <td>153</td>\n",
       "    </tr>\n",
       "    <tr>\n",
       "      <th>6</th>\n",
       "      <td>Touchstone Pictures</td>\n",
       "      <td>117</td>\n",
       "    </tr>\n",
       "    <tr>\n",
       "      <th>7</th>\n",
       "      <td>Metro-Goldwyn-Mayer \\(MGM\\)</td>\n",
       "      <td>114</td>\n",
       "    </tr>\n",
       "    <tr>\n",
       "      <th>8</th>\n",
       "      <td>Walt Disney Pictures</td>\n",
       "      <td>105</td>\n",
       "    </tr>\n",
       "    <tr>\n",
       "      <th>9</th>\n",
       "      <td>Relativity Media</td>\n",
       "      <td>102</td>\n",
       "    </tr>\n",
       "    <tr>\n",
       "      <th>10</th>\n",
       "      <td>Columbia Pictures Corporation</td>\n",
       "      <td>96</td>\n",
       "    </tr>\n",
       "    <tr>\n",
       "      <th>11</th>\n",
       "      <td>Miramax Films</td>\n",
       "      <td>92</td>\n",
       "    </tr>\n",
       "    <tr>\n",
       "      <th>12</th>\n",
       "      <td>DreamWorks SKG</td>\n",
       "      <td>78</td>\n",
       "    </tr>\n",
       "    <tr>\n",
       "      <th>13</th>\n",
       "      <td>Village Roadshow Pictures</td>\n",
       "      <td>75</td>\n",
       "    </tr>\n",
       "    <tr>\n",
       "      <th>14</th>\n",
       "      <td>United Artists</td>\n",
       "      <td>74</td>\n",
       "    </tr>\n",
       "    <tr>\n",
       "      <th>15</th>\n",
       "      <td>Canal+</td>\n",
       "      <td>72</td>\n",
       "    </tr>\n",
       "    <tr>\n",
       "      <th>16</th>\n",
       "      <td>Regency Enterprises</td>\n",
       "      <td>66</td>\n",
       "    </tr>\n",
       "    <tr>\n",
       "      <th>17</th>\n",
       "      <td>Fox Searchlight Pictures</td>\n",
       "      <td>64</td>\n",
       "    </tr>\n",
       "    <tr>\n",
       "      <th>18</th>\n",
       "      <td>Dune Entertainment</td>\n",
       "      <td>57</td>\n",
       "    </tr>\n",
       "    <tr>\n",
       "      <th>19</th>\n",
       "      <td>Dimension Films</td>\n",
       "      <td>53</td>\n",
       "    </tr>\n",
       "  </tbody>\n",
       "</table>\n",
       "</div>"
      ],
      "text/plain": [
       "                                  producer  count\n",
       "0                             Warner Bros.    307\n",
       "1                       Universal Pictures    290\n",
       "2                       Paramount Pictures    277\n",
       "3   Twentieth Century Fox Film Corporation    214\n",
       "4                        Columbia Pictures    189\n",
       "5                          New Line Cinema    153\n",
       "6                      Touchstone Pictures    117\n",
       "7              Metro-Goldwyn-Mayer \\(MGM\\)    114\n",
       "8                     Walt Disney Pictures    105\n",
       "9                         Relativity Media    102\n",
       "10           Columbia Pictures Corporation     96\n",
       "11                           Miramax Films     92\n",
       "12                          DreamWorks SKG     78\n",
       "13               Village Roadshow Pictures     75\n",
       "14                          United Artists     74\n",
       "15                                  Canal+     72\n",
       "16                     Regency Enterprises     66\n",
       "17                Fox Searchlight Pictures     64\n",
       "18                      Dune Entertainment     57\n",
       "19                         Dimension Films     53"
      ]
     },
     "execution_count": 12,
     "metadata": {},
     "output_type": "execute_result"
    }
   ],
   "source": [
    "# Count the number of times each producer executed a movie :\n",
    "\n",
    "producers = []\n",
    "\n",
    "for i in range(for_profit.shape[0]):\n",
    "    producers.append(for_profit['producer_as_list'][i])\n",
    "\n",
    "flatten = pd.Series([item for sublist in producers for item in sublist])\n",
    "\n",
    "producers = flatten.groupby(flatten).size().rename_axis('producer').reset_index(name='count').sort_values(by='count', ascending=False).reset_index(drop=True)\n",
    "\n",
    "# Make the parenthesis be seen as parenthesis in the loop below \n",
    "producers['producer'] = producers['producer'].apply(lambda x: x.translate(str.maketrans({\"(\": r\"\\(\", \")\": r\"\\)\"})))\n",
    "\n",
    "producers.head(20)"
   ]
  },
  {
   "cell_type": "code",
   "execution_count": 13,
   "metadata": {
    "colab": {},
    "colab_type": "code",
    "id": "Q2Wgb8tnAQTz"
   },
   "outputs": [],
   "source": [
    "# Calculate the average Profitability Index of the top 20 producers:\n",
    "\n",
    "producers['PI_mean'] = np.nan\n",
    "PI = []\n",
    "\n",
    "for name in producers['producer']:\n",
    "    PI.append(for_profit.loc[for_profit['producer_as_string'].str.contains(name)]['profitability_index'].mean())\n",
    "\n",
    "for i in range(producers.shape[0]):\n",
    "    producers['PI_mean'][i] = PI[i]"
   ]
  },
  {
   "cell_type": "code",
   "execution_count": 16,
   "metadata": {
    "colab": {
     "base_uri": "https://localhost:8080/",
     "height": 669
    },
    "colab_type": "code",
    "executionInfo": {
     "elapsed": 492590,
     "status": "ok",
     "timestamp": 1574419931483,
     "user": {
      "displayName": "Mónica Moreira Guerreiro Pereira",
      "photoUrl": "https://lh3.googleusercontent.com/a-/AAuE7mBJlzgTAn7Cw0qVXlyyl1mmvjiKiUyN4Ka7_fzLUg=s64",
      "userId": "17931693132098221456"
     },
     "user_tz": 0
    },
    "id": "LswkW9cGDMpD",
    "outputId": "2ce5efe5-3c99-4e2f-fde4-1f39d0c55b18"
   },
   "outputs": [
    {
     "data": {
      "text/html": [
       "<div>\n",
       "<style scoped>\n",
       "    .dataframe tbody tr th:only-of-type {\n",
       "        vertical-align: middle;\n",
       "    }\n",
       "\n",
       "    .dataframe tbody tr th {\n",
       "        vertical-align: top;\n",
       "    }\n",
       "\n",
       "    .dataframe thead th {\n",
       "        text-align: right;\n",
       "    }\n",
       "</style>\n",
       "<table border=\"1\" class=\"dataframe\">\n",
       "  <thead>\n",
       "    <tr style=\"text-align: right;\">\n",
       "      <th></th>\n",
       "      <th>producer</th>\n",
       "      <th>count</th>\n",
       "      <th>PI_mean</th>\n",
       "    </tr>\n",
       "  </thead>\n",
       "  <tbody>\n",
       "    <tr>\n",
       "      <th>14</th>\n",
       "      <td>United Artists</td>\n",
       "      <td>74</td>\n",
       "      <td>11.336574</td>\n",
       "    </tr>\n",
       "    <tr>\n",
       "      <th>17</th>\n",
       "      <td>Fox Searchlight Pictures</td>\n",
       "      <td>64</td>\n",
       "      <td>8.056990</td>\n",
       "    </tr>\n",
       "    <tr>\n",
       "      <th>11</th>\n",
       "      <td>Miramax Films</td>\n",
       "      <td>92</td>\n",
       "      <td>7.110683</td>\n",
       "    </tr>\n",
       "    <tr>\n",
       "      <th>5</th>\n",
       "      <td>New Line Cinema</td>\n",
       "      <td>153</td>\n",
       "      <td>6.599672</td>\n",
       "    </tr>\n",
       "    <tr>\n",
       "      <th>2</th>\n",
       "      <td>Paramount Pictures</td>\n",
       "      <td>277</td>\n",
       "      <td>5.631519</td>\n",
       "    </tr>\n",
       "    <tr>\n",
       "      <th>3</th>\n",
       "      <td>Twentieth Century Fox Film Corporation</td>\n",
       "      <td>214</td>\n",
       "      <td>5.573182</td>\n",
       "    </tr>\n",
       "    <tr>\n",
       "      <th>1</th>\n",
       "      <td>Universal Pictures</td>\n",
       "      <td>290</td>\n",
       "      <td>5.458977</td>\n",
       "    </tr>\n",
       "    <tr>\n",
       "      <th>7</th>\n",
       "      <td>Metro-Goldwyn-Mayer \\(MGM\\)</td>\n",
       "      <td>114</td>\n",
       "      <td>5.173810</td>\n",
       "    </tr>\n",
       "    <tr>\n",
       "      <th>18</th>\n",
       "      <td>Dune Entertainment</td>\n",
       "      <td>57</td>\n",
       "      <td>4.174530</td>\n",
       "    </tr>\n",
       "    <tr>\n",
       "      <th>8</th>\n",
       "      <td>Walt Disney Pictures</td>\n",
       "      <td>105</td>\n",
       "      <td>3.818638</td>\n",
       "    </tr>\n",
       "    <tr>\n",
       "      <th>0</th>\n",
       "      <td>Warner Bros.</td>\n",
       "      <td>307</td>\n",
       "      <td>3.698963</td>\n",
       "    </tr>\n",
       "    <tr>\n",
       "      <th>10</th>\n",
       "      <td>Columbia Pictures Corporation</td>\n",
       "      <td>96</td>\n",
       "      <td>3.589039</td>\n",
       "    </tr>\n",
       "    <tr>\n",
       "      <th>15</th>\n",
       "      <td>Canal+</td>\n",
       "      <td>72</td>\n",
       "      <td>3.358168</td>\n",
       "    </tr>\n",
       "    <tr>\n",
       "      <th>12</th>\n",
       "      <td>DreamWorks SKG</td>\n",
       "      <td>78</td>\n",
       "      <td>3.333261</td>\n",
       "    </tr>\n",
       "    <tr>\n",
       "      <th>4</th>\n",
       "      <td>Columbia Pictures</td>\n",
       "      <td>189</td>\n",
       "      <td>3.148697</td>\n",
       "    </tr>\n",
       "    <tr>\n",
       "      <th>6</th>\n",
       "      <td>Touchstone Pictures</td>\n",
       "      <td>117</td>\n",
       "      <td>2.969779</td>\n",
       "    </tr>\n",
       "    <tr>\n",
       "      <th>19</th>\n",
       "      <td>Dimension Films</td>\n",
       "      <td>53</td>\n",
       "      <td>2.901065</td>\n",
       "    </tr>\n",
       "    <tr>\n",
       "      <th>9</th>\n",
       "      <td>Relativity Media</td>\n",
       "      <td>102</td>\n",
       "      <td>2.788019</td>\n",
       "    </tr>\n",
       "    <tr>\n",
       "      <th>16</th>\n",
       "      <td>Regency Enterprises</td>\n",
       "      <td>66</td>\n",
       "      <td>2.551043</td>\n",
       "    </tr>\n",
       "    <tr>\n",
       "      <th>13</th>\n",
       "      <td>Village Roadshow Pictures</td>\n",
       "      <td>75</td>\n",
       "      <td>2.478716</td>\n",
       "    </tr>\n",
       "  </tbody>\n",
       "</table>\n",
       "</div>"
      ],
      "text/plain": [
       "                                  producer  count    PI_mean\n",
       "14                          United Artists     74  11.336574\n",
       "17                Fox Searchlight Pictures     64   8.056990\n",
       "11                           Miramax Films     92   7.110683\n",
       "5                          New Line Cinema    153   6.599672\n",
       "2                       Paramount Pictures    277   5.631519\n",
       "3   Twentieth Century Fox Film Corporation    214   5.573182\n",
       "1                       Universal Pictures    290   5.458977\n",
       "7              Metro-Goldwyn-Mayer \\(MGM\\)    114   5.173810\n",
       "18                      Dune Entertainment     57   4.174530\n",
       "8                     Walt Disney Pictures    105   3.818638\n",
       "0                             Warner Bros.    307   3.698963\n",
       "10           Columbia Pictures Corporation     96   3.589039\n",
       "15                                  Canal+     72   3.358168\n",
       "12                          DreamWorks SKG     78   3.333261\n",
       "4                        Columbia Pictures    189   3.148697\n",
       "6                      Touchstone Pictures    117   2.969779\n",
       "19                         Dimension Films     53   2.901065\n",
       "9                         Relativity Media    102   2.788019\n",
       "16                     Regency Enterprises     66   2.551043\n",
       "13               Village Roadshow Pictures     75   2.478716"
      ]
     },
     "execution_count": 16,
     "metadata": {},
     "output_type": "execute_result"
    }
   ],
   "source": [
    "top20_producers = producers.sort_values(by='count', ascending = False)[:20]\n",
    "top20_producers_sorted_PI = top20_producers.sort_values(by='PI_mean', ascending = False)\n",
    "top20_producers_sorted_PI"
   ]
  },
  {
   "cell_type": "code",
   "execution_count": null,
   "metadata": {},
   "outputs": [],
   "source": [
    "for i, v in enumerate(y):\n",
    "    ax.text(v + 3, i + .25, str(v), color='blue', fontweight='bold')"
   ]
  },
  {
   "cell_type": "code",
   "execution_count": 21,
   "metadata": {
    "colab": {
     "base_uri": "https://localhost:8080/",
     "height": 563
    },
    "colab_type": "code",
    "executionInfo": {
     "elapsed": 1516,
     "status": "ok",
     "timestamp": 1574425941615,
     "user": {
      "displayName": "Mónica Moreira Guerreiro Pereira",
      "photoUrl": "https://lh3.googleusercontent.com/a-/AAuE7mBJlzgTAn7Cw0qVXlyyl1mmvjiKiUyN4Ka7_fzLUg=s64",
      "userId": "17931693132098221456"
     },
     "user_tz": 0
    },
    "id": "Yb9yN07WDbcV",
    "outputId": "ad494486-612a-46eb-bf3c-e7db0c9e24b3"
   },
   "outputs": [
    {
     "data": {
      "image/png": "[encoded data removed]",
      "text/plain": [
       "<Figure size 864x576 with 1 Axes>"
      ]
     },
     "metadata": {},
     "output_type": "display_data"
    }
   ],
   "source": [
    "# Visualization of the top 20 producer companies and corresponding movies' average PI:\n",
    "def graph_companies(data, y_col, x_col):\n",
    "    color = 'FFF1E0'\n",
    "    sns.set(rc={'axes.facecolor':color, 'figure.facecolor':color})\n",
    "\n",
    "    g = sns.catplot(x=x_col, y=y_col, kind=\"bar\", color='#0D7680', edgecolor=\".6\", height=8, aspect=1.5, data=data);\n",
    "\n",
    "    plt.subplots_adjust(top=0.9)\n",
    "\n",
    "    plt.xlabel(\"Average Movies' PI\", fontsize = 16, fontweight = 'bold')\n",
    "    plt.ylabel('Producers', fontsize = 16, fontweight = 'bold')\n",
    "    plt.title(\"Top 20 producers' PI\", fontsize = 24, fontweight = 'bold')\n",
    "    \n",
    "\n",
    "graph_companies(top20_producers_sorted_PI, 'producer', 'PI_mean')"
   ]
  },
  {
   "cell_type": "code",
   "execution_count": 75,
   "metadata": {
    "colab": {
     "base_uri": "https://localhost:8080/",
     "height": 563
    },
    "colab_type": "code",
    "executionInfo": {
     "elapsed": 1516,
     "status": "ok",
     "timestamp": 1574425941615,
     "user": {
      "displayName": "Mónica Moreira Guerreiro Pereira",
      "photoUrl": "https://lh3.googleusercontent.com/a-/AAuE7mBJlzgTAn7Cw0qVXlyyl1mmvjiKiUyN4Ka7_fzLUg=s64",
      "userId": "17931693132098221456"
     },
     "user_tz": 0
    },
    "id": "Yb9yN07WDbcV",
    "outputId": "ad494486-612a-46eb-bf3c-e7db0c9e24b3"
   },
   "outputs": [
    {
     "data": {
      "text/plain": [
       "(array([ 0.,  2.,  4.,  6.,  8., 10., 12.]),\n",
       " <a list of 7 Text xticklabel objects>)"
      ]
     },
     "execution_count": 75,
     "metadata": {},
     "output_type": "execute_result"
    },
    {
     "data": {
      "image/png": "[encoded data removed]",
      "text/plain": [
       "<Figure size 864x720 with 1 Axes>"
      ]
     },
     "metadata": {},
     "output_type": "display_data"
    }
   ],
   "source": [
    "# Visualization of the top 20 producer companies and corresponding movies' average PI:\n",
    "top20_producers_sorted_PI['PI_mean'] = top20_producers_sorted_PI['PI_mean'].apply(lambda x: round(x, 2))\n",
    "top20_producers_sorted_PI.sort_values(by='PI_mean', ascending = True, inplace=True)\n",
    "ax = top20_producers_sorted_PI[['PI_mean', 'producer']].set_index('producer').plot(kind = 'barh', figsize = (12, 10), width = 0.8, color = '#0D7680')\n",
    "\n",
    "#setting the text for each barplot \n",
    "for i, v in enumerate(top20_producers_sorted_PI['PI_mean']):\n",
    "    ax.text(v + 0.5, i -0.3 , str(v), color='black', fontsize = 16)\n",
    "\n",
    "plt.xlabel(\"Average Movies' PI\", fontsize = 16, fontweight = 'bold')\n",
    "plt.ylabel('Producers', fontsize = 16, fontweight = 'bold')\n",
    "plt.title(\"Top 20 producers' PI\", fontsize = 24, fontweight = 'bold')   \n",
    "plt.xticks(fontsize = 24)"
   ]
  },
  {
   "cell_type": "markdown",
   "metadata": {
    "colab_type": "text",
    "id": "sJHAdzu2Qf_3"
   },
   "source": [
    "**Findings:**<br>\n",
    "Taking the perspective of an investor in the Entertainment Industry, it would be interesting to know what are the top Movie Producers to work with. This way, and according to the previous bar chart, it is visible that United Artists is the one with a higher profitability index (regarding revenues / budget = 11.33), featuring twice the index of the 5th. Fox Searchlight Pictures and Miramax Films complete the top 3 with PI of arround 8 and 7, respectivelly. "
   ]
  },
  {
   "cell_type": "markdown",
   "metadata": {
    "colab_type": "text",
    "id": "-yunlFAjRB6I"
   },
   "source": [
    "# 5. Actors\n",
    "*Indentification of the best main actors, according to producers' profitability and votes.*"
   ]
  },
  {
   "cell_type": "code",
   "execution_count": 31,
   "metadata": {
    "colab": {
     "base_uri": "https://localhost:8080/",
     "height": 284
    },
    "colab_type": "code",
    "executionInfo": {
     "elapsed": 496094,
     "status": "ok",
     "timestamp": 1574419935013,
     "user": {
      "displayName": "Mónica Moreira Guerreiro Pereira",
      "photoUrl": "https://lh3.googleusercontent.com/a-/AAuE7mBJlzgTAn7Cw0qVXlyyl1mmvjiKiUyN4Ka7_fzLUg=s64",
      "userId": "17931693132098221456"
     },
     "user_tz": 0
    },
    "id": "e0lKW3yGxQS3",
    "outputId": "6507e8b8-d0d0-4a25-e214-16a31edccc96"
   },
   "outputs": [
    {
     "data": {
      "text/html": [
       "<div>\n",
       "<style scoped>\n",
       "    .dataframe tbody tr th:only-of-type {\n",
       "        vertical-align: middle;\n",
       "    }\n",
       "\n",
       "    .dataframe tbody tr th {\n",
       "        vertical-align: top;\n",
       "    }\n",
       "\n",
       "    .dataframe thead th {\n",
       "        text-align: right;\n",
       "    }\n",
       "</style>\n",
       "<table border=\"1\" class=\"dataframe\">\n",
       "  <thead>\n",
       "    <tr style=\"text-align: right;\">\n",
       "      <th></th>\n",
       "      <th>movieId</th>\n",
       "      <th>tmdbId</th>\n",
       "      <th>title</th>\n",
       "      <th>genres</th>\n",
       "      <th>original_language</th>\n",
       "      <th>release_date</th>\n",
       "      <th>runtime</th>\n",
       "      <th>cast</th>\n",
       "      <th>production_companies</th>\n",
       "      <th>production_countries</th>\n",
       "      <th>popularity</th>\n",
       "      <th>vote_average</th>\n",
       "      <th>vote_count</th>\n",
       "      <th>revenue</th>\n",
       "      <th>budget</th>\n",
       "      <th>profitability_index</th>\n",
       "      <th>producer_as_list</th>\n",
       "      <th>producer_as_string</th>\n",
       "      <th>actor_as_list</th>\n",
       "      <th>actor_as_string</th>\n",
       "    </tr>\n",
       "  </thead>\n",
       "  <tbody>\n",
       "    <tr>\n",
       "      <th>0</th>\n",
       "      <td>1</td>\n",
       "      <td>862.0</td>\n",
       "      <td>Toy Story (1995)</td>\n",
       "      <td>Adventure|Animation|Children|Comedy|Fantasy</td>\n",
       "      <td>en</td>\n",
       "      <td>1995-10-30</td>\n",
       "      <td>81.0</td>\n",
       "      <td>[{\"cast_id\": 14, \"character\": \"Woody (voice)\",...</td>\n",
       "      <td>[{\"name\": \"Pixar Animation Studios\", \"id\": 3}]</td>\n",
       "      <td>[{\"iso_3166_1\": \"US\", \"name\": \"United States o...</td>\n",
       "      <td>73.640445</td>\n",
       "      <td>7.7</td>\n",
       "      <td>5269</td>\n",
       "      <td>373.554033</td>\n",
       "      <td>30.0</td>\n",
       "      <td>12.451801</td>\n",
       "      <td>[Pixar Animation Studios]</td>\n",
       "      <td>Pixar Animation Studios</td>\n",
       "      <td>[Tom Hanks, Tim Allen, Don Rickles]</td>\n",
       "      <td>Tom Hanks, Tim Allen, Don Rickles</td>\n",
       "    </tr>\n",
       "    <tr>\n",
       "      <th>1</th>\n",
       "      <td>10</td>\n",
       "      <td>710.0</td>\n",
       "      <td>GoldenEye (1995)</td>\n",
       "      <td>Action|Adventure|Thriller</td>\n",
       "      <td>en</td>\n",
       "      <td>1995-11-16</td>\n",
       "      <td>130.0</td>\n",
       "      <td>[{\"cast_id\": 1, \"character\": \"James Bond\", \"cr...</td>\n",
       "      <td>[{\"name\": \"United Artists\", \"id\": 60}, {\"name\"...</td>\n",
       "      <td>[{\"iso_3166_1\": \"GB\", \"name\": \"United Kingdom\"...</td>\n",
       "      <td>59.824565</td>\n",
       "      <td>6.6</td>\n",
       "      <td>1174</td>\n",
       "      <td>352.194034</td>\n",
       "      <td>58.0</td>\n",
       "      <td>6.072311</td>\n",
       "      <td>[United Artists, Eon Productions]</td>\n",
       "      <td>United Artists, Eon Productions</td>\n",
       "      <td>[Pierce Brosnan, Sean Bean, Izabella Scorupco]</td>\n",
       "      <td>Pierce Brosnan, Sean Bean, Izabella Scorupco</td>\n",
       "    </tr>\n",
       "  </tbody>\n",
       "</table>\n",
       "</div>"
      ],
      "text/plain": [
       "   movieId  ...                               actor_as_string\n",
       "0        1  ...             Tom Hanks, Tim Allen, Don Rickles\n",
       "1       10  ...  Pierce Brosnan, Sean Bean, Izabella Scorupco\n",
       "\n",
       "[2 rows x 20 columns]"
      ]
     },
     "execution_count": 31,
     "metadata": {
      "tags": []
     },
     "output_type": "execute_result"
    }
   ],
   "source": [
    "# From 'cast', select the 3 main characters of each movie and form a new column (assumming they are by order):\n",
    "\n",
    "for_profit['actor_as_list'] = np.nan\n",
    "for_profit['actor_as_string']= np.nan\n",
    "\n",
    "for i in range(for_profit.shape[0]):\n",
    "    l = eval((for_profit['cast'][i]))\n",
    "    lista = [d['name'] for d in l]\n",
    "    for_profit['actor_as_list'][i] = lista[:3]\n",
    "    for_profit['actor_as_string'][i] = ', '.join(lista[:3])\n",
    "\n",
    "for_profit.head(2)"
   ]
  },
  {
   "cell_type": "code",
   "execution_count": 32,
   "metadata": {
    "colab": {
     "base_uri": "https://localhost:8080/",
     "height": 204
    },
    "colab_type": "code",
    "executionInfo": {
     "elapsed": 496082,
     "status": "ok",
     "timestamp": 1574419935014,
     "user": {
      "displayName": "Mónica Moreira Guerreiro Pereira",
      "photoUrl": "https://lh3.googleusercontent.com/a-/AAuE7mBJlzgTAn7Cw0qVXlyyl1mmvjiKiUyN4Ka7_fzLUg=s64",
      "userId": "17931693132098221456"
     },
     "user_tz": 0
    },
    "id": "tue0AFygagyA",
    "outputId": "5883426b-0a57-498d-8832-0d3532d95307"
   },
   "outputs": [
    {
     "data": {
      "text/html": [
       "<div>\n",
       "<style scoped>\n",
       "    .dataframe tbody tr th:only-of-type {\n",
       "        vertical-align: middle;\n",
       "    }\n",
       "\n",
       "    .dataframe tbody tr th {\n",
       "        vertical-align: top;\n",
       "    }\n",
       "\n",
       "    .dataframe thead th {\n",
       "        text-align: right;\n",
       "    }\n",
       "</style>\n",
       "<table border=\"1\" class=\"dataframe\">\n",
       "  <thead>\n",
       "    <tr style=\"text-align: right;\">\n",
       "      <th></th>\n",
       "      <th>actor</th>\n",
       "      <th>count</th>\n",
       "    </tr>\n",
       "  </thead>\n",
       "  <tbody>\n",
       "    <tr>\n",
       "      <th>0</th>\n",
       "      <td>Robert De Niro</td>\n",
       "      <td>41</td>\n",
       "    </tr>\n",
       "    <tr>\n",
       "      <th>1</th>\n",
       "      <td>Bruce Willis</td>\n",
       "      <td>35</td>\n",
       "    </tr>\n",
       "    <tr>\n",
       "      <th>2</th>\n",
       "      <td>Samuel L. Jackson</td>\n",
       "      <td>34</td>\n",
       "    </tr>\n",
       "    <tr>\n",
       "      <th>3</th>\n",
       "      <td>Nicolas Cage</td>\n",
       "      <td>34</td>\n",
       "    </tr>\n",
       "    <tr>\n",
       "      <th>4</th>\n",
       "      <td>Matt Damon</td>\n",
       "      <td>33</td>\n",
       "    </tr>\n",
       "  </tbody>\n",
       "</table>\n",
       "</div>"
      ],
      "text/plain": [
       "               actor  count\n",
       "0     Robert De Niro     41\n",
       "1       Bruce Willis     35\n",
       "2  Samuel L. Jackson     34\n",
       "3       Nicolas Cage     34\n",
       "4         Matt Damon     33"
      ]
     },
     "execution_count": 32,
     "metadata": {
      "tags": []
     },
     "output_type": "execute_result"
    }
   ],
   "source": [
    "# Count the number of times each actor participated in a movie as one of the 3 main characters:\n",
    "\n",
    "actors = []\n",
    "\n",
    "for i in range(for_profit.shape[0]):\n",
    "    actors.append(for_profit['actor_as_list'][i])\n",
    "\n",
    "flatten = pd.Series([item for sublist in actors for item in sublist])\n",
    "\n",
    "actors = flatten.groupby(flatten).size().rename_axis('actor').reset_index(name='count').sort_values(by='count', ascending=False).reset_index(drop=True)\n",
    "actors.head()"
   ]
  },
  {
   "cell_type": "code",
   "execution_count": 33,
   "metadata": {
    "colab": {
     "base_uri": "https://localhost:8080/",
     "height": 204
    },
    "colab_type": "code",
    "executionInfo": {
     "elapsed": 509767,
     "status": "ok",
     "timestamp": 1574419948713,
     "user": {
      "displayName": "Mónica Moreira Guerreiro Pereira",
      "photoUrl": "https://lh3.googleusercontent.com/a-/AAuE7mBJlzgTAn7Cw0qVXlyyl1mmvjiKiUyN4Ka7_fzLUg=s64",
      "userId": "17931693132098221456"
     },
     "user_tz": 0
    },
    "id": "ucck2ELt1VAO",
    "outputId": "8d186629-d476-4a3e-a280-6e24a1c2ef89"
   },
   "outputs": [
    {
     "data": {
      "text/html": [
       "<div>\n",
       "<style scoped>\n",
       "    .dataframe tbody tr th:only-of-type {\n",
       "        vertical-align: middle;\n",
       "    }\n",
       "\n",
       "    .dataframe tbody tr th {\n",
       "        vertical-align: top;\n",
       "    }\n",
       "\n",
       "    .dataframe thead th {\n",
       "        text-align: right;\n",
       "    }\n",
       "</style>\n",
       "<table border=\"1\" class=\"dataframe\">\n",
       "  <thead>\n",
       "    <tr style=\"text-align: right;\">\n",
       "      <th></th>\n",
       "      <th>actor</th>\n",
       "      <th>count</th>\n",
       "      <th>PI_mean</th>\n",
       "    </tr>\n",
       "  </thead>\n",
       "  <tbody>\n",
       "    <tr>\n",
       "      <th>0</th>\n",
       "      <td>Robert De Niro</td>\n",
       "      <td>41</td>\n",
       "      <td>3.667470</td>\n",
       "    </tr>\n",
       "    <tr>\n",
       "      <th>1</th>\n",
       "      <td>Bruce Willis</td>\n",
       "      <td>35</td>\n",
       "      <td>3.106557</td>\n",
       "    </tr>\n",
       "    <tr>\n",
       "      <th>2</th>\n",
       "      <td>Samuel L. Jackson</td>\n",
       "      <td>34</td>\n",
       "      <td>3.488611</td>\n",
       "    </tr>\n",
       "    <tr>\n",
       "      <th>3</th>\n",
       "      <td>Nicolas Cage</td>\n",
       "      <td>34</td>\n",
       "      <td>2.229437</td>\n",
       "    </tr>\n",
       "    <tr>\n",
       "      <th>4</th>\n",
       "      <td>Matt Damon</td>\n",
       "      <td>33</td>\n",
       "      <td>3.248942</td>\n",
       "    </tr>\n",
       "  </tbody>\n",
       "</table>\n",
       "</div>"
      ],
      "text/plain": [
       "               actor  count   PI_mean\n",
       "0     Robert De Niro     41  3.667470\n",
       "1       Bruce Willis     35  3.106557\n",
       "2  Samuel L. Jackson     34  3.488611\n",
       "3       Nicolas Cage     34  2.229437\n",
       "4         Matt Damon     33  3.248942"
      ]
     },
     "execution_count": 33,
     "metadata": {
      "tags": []
     },
     "output_type": "execute_result"
    }
   ],
   "source": [
    "# Calculate the average Profitability Index of the 200 most famous actors (who have participated in more movies):\n",
    "\n",
    "actors['PI_mean'] = np.nan\n",
    "PI = []\n",
    "\n",
    "for name in actors['actor']:\n",
    "    PI.append(for_profit.loc[for_profit['actor_as_string'].str.contains(name)]['profitability_index'].mean())\n",
    "\n",
    "for i in range(actors.shape[0]):    \n",
    "    actors['PI_mean'][i] = PI[i]\n",
    "\n",
    "famous_actors = actors.sort_values([\"count\"], ascending=False)[:200]\n",
    "famous_actors.head()"
   ]
  },
  {
   "cell_type": "code",
   "execution_count": 34,
   "metadata": {
    "colab": {
     "base_uri": "https://localhost:8080/",
     "height": 669
    },
    "colab_type": "code",
    "executionInfo": {
     "elapsed": 509756,
     "status": "ok",
     "timestamp": 1574419948715,
     "user": {
      "displayName": "Mónica Moreira Guerreiro Pereira",
      "photoUrl": "https://lh3.googleusercontent.com/a-/AAuE7mBJlzgTAn7Cw0qVXlyyl1mmvjiKiUyN4Ka7_fzLUg=s64",
      "userId": "17931693132098221456"
     },
     "user_tz": 0
    },
    "id": "WNib_nHoPK5I",
    "outputId": "7e7001e2-999a-4bc1-9f3d-40297ebc7243"
   },
   "outputs": [
    {
     "data": {
      "text/html": [
       "<div>\n",
       "<style scoped>\n",
       "    .dataframe tbody tr th:only-of-type {\n",
       "        vertical-align: middle;\n",
       "    }\n",
       "\n",
       "    .dataframe tbody tr th {\n",
       "        vertical-align: top;\n",
       "    }\n",
       "\n",
       "    .dataframe thead th {\n",
       "        text-align: right;\n",
       "    }\n",
       "</style>\n",
       "<table border=\"1\" class=\"dataframe\">\n",
       "  <thead>\n",
       "    <tr style=\"text-align: right;\">\n",
       "      <th></th>\n",
       "      <th>actor</th>\n",
       "      <th>count</th>\n",
       "      <th>PI_mean</th>\n",
       "    </tr>\n",
       "  </thead>\n",
       "  <tbody>\n",
       "    <tr>\n",
       "      <th>45</th>\n",
       "      <td>Mel Gibson</td>\n",
       "      <td>21</td>\n",
       "      <td>15.846467</td>\n",
       "    </tr>\n",
       "    <tr>\n",
       "      <th>35</th>\n",
       "      <td>Sean Connery</td>\n",
       "      <td>22</td>\n",
       "      <td>14.129082</td>\n",
       "    </tr>\n",
       "    <tr>\n",
       "      <th>151</th>\n",
       "      <td>Patrick Wilson</td>\n",
       "      <td>13</td>\n",
       "      <td>13.008583</td>\n",
       "    </tr>\n",
       "    <tr>\n",
       "      <th>160</th>\n",
       "      <td>Danny Glover</td>\n",
       "      <td>13</td>\n",
       "      <td>12.469208</td>\n",
       "    </tr>\n",
       "    <tr>\n",
       "      <th>150</th>\n",
       "      <td>Rose Byrne</td>\n",
       "      <td>13</td>\n",
       "      <td>10.197712</td>\n",
       "    </tr>\n",
       "    <tr>\n",
       "      <th>95</th>\n",
       "      <td>Clint Eastwood</td>\n",
       "      <td>16</td>\n",
       "      <td>9.491782</td>\n",
       "    </tr>\n",
       "    <tr>\n",
       "      <th>23</th>\n",
       "      <td>Sylvester Stallone</td>\n",
       "      <td>24</td>\n",
       "      <td>8.776761</td>\n",
       "    </tr>\n",
       "    <tr>\n",
       "      <th>14</th>\n",
       "      <td>Harrison Ford</td>\n",
       "      <td>26</td>\n",
       "      <td>8.113196</td>\n",
       "    </tr>\n",
       "    <tr>\n",
       "      <th>188</th>\n",
       "      <td>Paul Newman</td>\n",
       "      <td>12</td>\n",
       "      <td>7.271833</td>\n",
       "    </tr>\n",
       "    <tr>\n",
       "      <th>113</th>\n",
       "      <td>Jack Nicholson</td>\n",
       "      <td>15</td>\n",
       "      <td>7.184451</td>\n",
       "    </tr>\n",
       "    <tr>\n",
       "      <th>131</th>\n",
       "      <td>Hugh Grant</td>\n",
       "      <td>14</td>\n",
       "      <td>7.140718</td>\n",
       "    </tr>\n",
       "    <tr>\n",
       "      <th>63</th>\n",
       "      <td>Ethan Hawke</td>\n",
       "      <td>18</td>\n",
       "      <td>6.762939</td>\n",
       "    </tr>\n",
       "    <tr>\n",
       "      <th>164</th>\n",
       "      <td>Colin Firth</td>\n",
       "      <td>13</td>\n",
       "      <td>6.702021</td>\n",
       "    </tr>\n",
       "    <tr>\n",
       "      <th>112</th>\n",
       "      <td>Danny DeVito</td>\n",
       "      <td>15</td>\n",
       "      <td>6.403911</td>\n",
       "    </tr>\n",
       "    <tr>\n",
       "      <th>133</th>\n",
       "      <td>Woody Allen</td>\n",
       "      <td>14</td>\n",
       "      <td>6.157742</td>\n",
       "    </tr>\n",
       "    <tr>\n",
       "      <th>53</th>\n",
       "      <td>Ben Affleck</td>\n",
       "      <td>19</td>\n",
       "      <td>6.078439</td>\n",
       "    </tr>\n",
       "    <tr>\n",
       "      <th>172</th>\n",
       "      <td>Annette Bening</td>\n",
       "      <td>12</td>\n",
       "      <td>6.030336</td>\n",
       "    </tr>\n",
       "    <tr>\n",
       "      <th>33</th>\n",
       "      <td>Drew Barrymore</td>\n",
       "      <td>23</td>\n",
       "      <td>5.999290</td>\n",
       "    </tr>\n",
       "    <tr>\n",
       "      <th>20</th>\n",
       "      <td>Robin Williams</td>\n",
       "      <td>24</td>\n",
       "      <td>5.912986</td>\n",
       "    </tr>\n",
       "    <tr>\n",
       "      <th>156</th>\n",
       "      <td>John Leguizamo</td>\n",
       "      <td>13</td>\n",
       "      <td>5.640826</td>\n",
       "    </tr>\n",
       "  </tbody>\n",
       "</table>\n",
       "</div>"
      ],
      "text/plain": [
       "                  actor  count    PI_mean\n",
       "45           Mel Gibson     21  15.846467\n",
       "35         Sean Connery     22  14.129082\n",
       "151      Patrick Wilson     13  13.008583\n",
       "160        Danny Glover     13  12.469208\n",
       "150          Rose Byrne     13  10.197712\n",
       "95       Clint Eastwood     16   9.491782\n",
       "23   Sylvester Stallone     24   8.776761\n",
       "14        Harrison Ford     26   8.113196\n",
       "188         Paul Newman     12   7.271833\n",
       "113      Jack Nicholson     15   7.184451\n",
       "131          Hugh Grant     14   7.140718\n",
       "63          Ethan Hawke     18   6.762939\n",
       "164         Colin Firth     13   6.702021\n",
       "112        Danny DeVito     15   6.403911\n",
       "133         Woody Allen     14   6.157742\n",
       "53          Ben Affleck     19   6.078439\n",
       "172      Annette Bening     12   6.030336\n",
       "33       Drew Barrymore     23   5.999290\n",
       "20       Robin Williams     24   5.912986\n",
       "156      John Leguizamo     13   5.640826"
      ]
     },
     "execution_count": 34,
     "metadata": {
      "tags": []
     },
     "output_type": "execute_result"
    }
   ],
   "source": [
    "# Within the most famous actors, identification of the 20 most profitable ones:\n",
    "\n",
    "top_actors = famous_actors.sort_values([\"PI_mean\"], ascending=False)[:20]\n",
    "top_actors"
   ]
  },
  {
   "cell_type": "code",
   "execution_count": 35,
   "metadata": {
    "colab": {
     "base_uri": "https://localhost:8080/",
     "height": 563
    },
    "colab_type": "code",
    "executionInfo": {
     "elapsed": 510581,
     "status": "ok",
     "timestamp": 1574419949554,
     "user": {
      "displayName": "Mónica Moreira Guerreiro Pereira",
      "photoUrl": "https://lh3.googleusercontent.com/a-/AAuE7mBJlzgTAn7Cw0qVXlyyl1mmvjiKiUyN4Ka7_fzLUg=s64",
      "userId": "17931693132098221456"
     },
     "user_tz": 0
    },
    "id": "k6nBlgHaIQZN",
    "outputId": "45d1270a-c46d-4cce-efc5-d3383537f47a"
   },
   "outputs": [
    {
     "data": {
      "image/png": "[encoded data removed]",
      "text/plain": [
       "<Figure size 864x576 with 1 Axes>"
      ]
     },
     "metadata": {
      "tags": []
     },
     "output_type": "display_data"
    }
   ],
   "source": [
    "# Visualization of the top 20 actors and corresponding movies' average PI:\n",
    "\n",
    "color = 'FFF1E0'\n",
    "sns.set(rc={'axes.facecolor':color, 'figure.facecolor':color})\n",
    "\n",
    "PD = top_actors.sort_values(['PI_mean'], ascending=False).reset_index(drop=True)\n",
    "\n",
    "g = sns.catplot(x=\"PI_mean\", y=\"actor\", kind=\"bar\", color='#0D7680', edgecolor=\".6\", height=8, aspect=1.5, data=PD);\n",
    "\n",
    "plt.subplots_adjust(top=0.9)\n",
    "\n",
    "plt.xlabel(\"Average Movies' PI\", fontsize = 16, fontweight = 'bold')\n",
    "plt.ylabel('Actors', fontsize = 16, fontweight = 'bold')\n",
    "plt.title(\"Top 20 actors' PI\", fontsize = 24, fontweight = 'bold');"
   ]
  },
  {
   "cell_type": "markdown",
   "metadata": {
    "colab_type": "text",
    "id": "46ct1VdxQMmq"
   },
   "source": [
    "**Findings:**<br>\n",
    "Regarding top actors in the Entertainment Industry, the group noticed that Mel Gilbson, Sean Connery and Patrick Wilson are the ones to call if a Producer wants to get high profits. This means that, among the most famous actors, there 3 are the ones who have participated, on average, in the most profitable movies of all times!\n"
   ]
  },
  {
   "cell_type": "markdown",
   "metadata": {
    "colab_type": "text",
    "id": "fcyX9eycCBo2"
   },
   "source": [
    "# 6. Conclusions"
   ]
  },
  {
   "cell_type": "code",
   "execution_count": 0,
   "metadata": {
    "colab": {},
    "colab_type": "code",
    "id": "0mTZKuXYCD7D"
   },
   "outputs": [],
   "source": []
  },
  {
   "cell_type": "markdown",
   "metadata": {
    "colab_type": "text",
    "id": "VthkCjRzCE0t"
   },
   "source": [
    "# 7. Sources"
   ]
  },
  {
   "cell_type": "code",
   "execution_count": 0,
   "metadata": {
    "colab": {},
    "colab_type": "code",
    "id": "AeXorwiDCH10"
   },
   "outputs": [],
   "source": []
  }
 ],
 "metadata": {
  "colab": {
   "collapsed_sections": [
    "g1WPRGZtRDtV"
   ],
   "machine_shape": "hm",
   "name": "Process-Midterm.ipynb",
   "provenance": []
  },
  "kernelspec": {
   "display_name": "Python 3",
   "language": "python",
   "name": "python3"
  },
  "language_info": {
   "codemirror_mode": {
    "name": "ipython",
    "version": 3
   },
   "file_extension": ".py",
   "mimetype": "text/x-python",
   "name": "python",
   "nbconvert_exporter": "python",
   "pygments_lexer": "ipython3",
   "version": "3.7.0"
  }
 },
 "nbformat": 4,
 "nbformat_minor": 1
}
